{
 "cells": [
  {
   "cell_type": "markdown",
   "metadata": {},
   "source": [
    "# 读取CSV文件"
   ]
  },
  {
   "cell_type": "code",
   "execution_count": 1,
   "metadata": {},
   "outputs": [],
   "source": [
    "import pandas as pd\n",
    "import jieba\n",
    "import numpy as np\n",
    "from collections import Counter"
   ]
  },
  {
   "cell_type": "code",
   "execution_count": 2,
   "metadata": {},
   "outputs": [
    {
     "data": {
      "text/html": [
       "<div>\n",
       "<style scoped>\n",
       "    .dataframe tbody tr th:only-of-type {\n",
       "        vertical-align: middle;\n",
       "    }\n",
       "\n",
       "    .dataframe tbody tr th {\n",
       "        vertical-align: top;\n",
       "    }\n",
       "\n",
       "    .dataframe thead th {\n",
       "        text-align: right;\n",
       "    }\n",
       "</style>\n",
       "<table border=\"1\" class=\"dataframe\">\n",
       "  <thead>\n",
       "    <tr style=\"text-align: right;\">\n",
       "      <th></th>\n",
       "      <th>id</th>\n",
       "      <th>author</th>\n",
       "      <th>source</th>\n",
       "      <th>content</th>\n",
       "      <th>feature</th>\n",
       "      <th>title</th>\n",
       "      <th>url</th>\n",
       "    </tr>\n",
       "  </thead>\n",
       "  <tbody>\n",
       "    <tr>\n",
       "      <th>0</th>\n",
       "      <td>89617</td>\n",
       "      <td>NaN</td>\n",
       "      <td>快科技@http://www.kkj.cn/</td>\n",
       "      <td>此外，自本周（6月12日）起，除小米手机6等15款机型外，其余机型已暂停更新发布（含开发版/...</td>\n",
       "      <td>{\"type\":\"科技\",\"site\":\"cnbeta\",\"commentNum\":\"37\"...</td>\n",
       "      <td>小米MIUI 9首批机型曝光：共计15款</td>\n",
       "      <td>http://www.cnbeta.com/articles/tech/623597.htm</td>\n",
       "    </tr>\n",
       "    <tr>\n",
       "      <th>1</th>\n",
       "      <td>89616</td>\n",
       "      <td>NaN</td>\n",
       "      <td>快科技@http://www.kkj.cn/</td>\n",
       "      <td>骁龙835作为唯一通过Windows 10桌面平台认证的ARM处理器，高通强调，不会因为只考...</td>\n",
       "      <td>{\"type\":\"科技\",\"site\":\"cnbeta\",\"commentNum\":\"15\"...</td>\n",
       "      <td>骁龙835在Windows 10上的性能表现有望改善</td>\n",
       "      <td>http://www.cnbeta.com/articles/tech/623599.htm</td>\n",
       "    </tr>\n",
       "    <tr>\n",
       "      <th>2</th>\n",
       "      <td>89615</td>\n",
       "      <td>NaN</td>\n",
       "      <td>快科技@http://www.kkj.cn/</td>\n",
       "      <td>此前的一加3T搭载的是3400mAh电池，DashCharge快充规格为5V/4A。\\r\\n...</td>\n",
       "      <td>{\"type\":\"科技\",\"site\":\"cnbeta\",\"commentNum\":\"18\"...</td>\n",
       "      <td>一加手机5细节曝光：3300mAh、充半小时用1天</td>\n",
       "      <td>http://www.cnbeta.com/articles/tech/623601.htm</td>\n",
       "    </tr>\n",
       "    <tr>\n",
       "      <th>3</th>\n",
       "      <td>89614</td>\n",
       "      <td>NaN</td>\n",
       "      <td>新华社</td>\n",
       "      <td>这是6月18日在葡萄牙中部大佩德罗冈地区拍摄的被森林大火烧毁的汽车。新华社记者张立云摄\\r\\n</td>\n",
       "      <td>{\"type\":\"国际新闻\",\"site\":\"环球\",\"commentNum\":\"0\",\"j...</td>\n",
       "      <td>葡森林火灾造成至少62人死亡 政府宣布进入紧急状态（组图）</td>\n",
       "      <td>http://world.huanqiu.com/hot/2017-06/10866126....</td>\n",
       "    </tr>\n",
       "    <tr>\n",
       "      <th>4</th>\n",
       "      <td>89613</td>\n",
       "      <td>胡淑丽_MN7479</td>\n",
       "      <td>深圳大件事</td>\n",
       "      <td>（原标题：44岁女子跑深圳约会网友被拒，暴雨中裸身奔走……）\\r\\n@深圳交警微博称：昨日清...</td>\n",
       "      <td>{\"type\":\"新闻\",\"site\":\"网易热门\",\"commentNum\":\"978\",...</td>\n",
       "      <td>44岁女子约网友被拒暴雨中裸奔 交警为其披衣相随</td>\n",
       "      <td>http://news.163.com/17/0618/00/CN617P3Q0001875...</td>\n",
       "    </tr>\n",
       "  </tbody>\n",
       "</table>\n",
       "</div>"
      ],
      "text/plain": [
       "      id      author                  source  \\\n",
       "0  89617         NaN  快科技@http://www.kkj.cn/   \n",
       "1  89616         NaN  快科技@http://www.kkj.cn/   \n",
       "2  89615         NaN  快科技@http://www.kkj.cn/   \n",
       "3  89614         NaN                     新华社   \n",
       "4  89613  胡淑丽_MN7479                   深圳大件事   \n",
       "\n",
       "                                             content  \\\n",
       "0  此外，自本周（6月12日）起，除小米手机6等15款机型外，其余机型已暂停更新发布（含开发版/...   \n",
       "1  骁龙835作为唯一通过Windows 10桌面平台认证的ARM处理器，高通强调，不会因为只考...   \n",
       "2  此前的一加3T搭载的是3400mAh电池，DashCharge快充规格为5V/4A。\\r\\n...   \n",
       "3    这是6月18日在葡萄牙中部大佩德罗冈地区拍摄的被森林大火烧毁的汽车。新华社记者张立云摄\\r\\n   \n",
       "4  （原标题：44岁女子跑深圳约会网友被拒，暴雨中裸身奔走……）\\r\\n@深圳交警微博称：昨日清...   \n",
       "\n",
       "                                             feature  \\\n",
       "0  {\"type\":\"科技\",\"site\":\"cnbeta\",\"commentNum\":\"37\"...   \n",
       "1  {\"type\":\"科技\",\"site\":\"cnbeta\",\"commentNum\":\"15\"...   \n",
       "2  {\"type\":\"科技\",\"site\":\"cnbeta\",\"commentNum\":\"18\"...   \n",
       "3  {\"type\":\"国际新闻\",\"site\":\"环球\",\"commentNum\":\"0\",\"j...   \n",
       "4  {\"type\":\"新闻\",\"site\":\"网易热门\",\"commentNum\":\"978\",...   \n",
       "\n",
       "                           title  \\\n",
       "0           小米MIUI 9首批机型曝光：共计15款   \n",
       "1     骁龙835在Windows 10上的性能表现有望改善   \n",
       "2      一加手机5细节曝光：3300mAh、充半小时用1天   \n",
       "3  葡森林火灾造成至少62人死亡 政府宣布进入紧急状态（组图）   \n",
       "4       44岁女子约网友被拒暴雨中裸奔 交警为其披衣相随   \n",
       "\n",
       "                                                 url  \n",
       "0     http://www.cnbeta.com/articles/tech/623597.htm  \n",
       "1     http://www.cnbeta.com/articles/tech/623599.htm  \n",
       "2     http://www.cnbeta.com/articles/tech/623601.htm  \n",
       "3  http://world.huanqiu.com/hot/2017-06/10866126....  \n",
       "4  http://news.163.com/17/0618/00/CN617P3Q0001875...  "
      ]
     },
     "execution_count": 2,
     "metadata": {},
     "output_type": "execute_result"
    }
   ],
   "source": [
    "content=pd.read_csv(r'/Users/yang/Downloads/datasource-master/sqlResult_1558435.csv',encoding='gb18030')\n",
    "content.head()"
   ]
  },
  {
   "cell_type": "code",
   "execution_count": 3,
   "metadata": {},
   "outputs": [
    {
     "name": "stdout",
     "output_type": "stream",
     "text": [
      "<class 'pandas.core.frame.DataFrame'>\n",
      "RangeIndex: 89611 entries, 0 to 89610\n",
      "Data columns (total 7 columns):\n",
      "id         89611 non-null int64\n",
      "author     79396 non-null object\n",
      "source     89609 non-null object\n",
      "content    87054 non-null object\n",
      "feature    89611 non-null object\n",
      "title      89577 non-null object\n",
      "url        87144 non-null object\n",
      "dtypes: int64(1), object(6)\n",
      "memory usage: 4.8+ MB\n"
     ]
    }
   ],
   "source": [
    "content.info()"
   ]
  },
  {
   "cell_type": "code",
   "execution_count": 4,
   "metadata": {},
   "outputs": [
    {
     "data": {
      "text/html": [
       "<div>\n",
       "<style scoped>\n",
       "    .dataframe tbody tr th:only-of-type {\n",
       "        vertical-align: middle;\n",
       "    }\n",
       "\n",
       "    .dataframe tbody tr th {\n",
       "        vertical-align: top;\n",
       "    }\n",
       "\n",
       "    .dataframe thead th {\n",
       "        text-align: right;\n",
       "    }\n",
       "</style>\n",
       "<table border=\"1\" class=\"dataframe\">\n",
       "  <thead>\n",
       "    <tr style=\"text-align: right;\">\n",
       "      <th></th>\n",
       "      <th>id</th>\n",
       "      <th>author</th>\n",
       "      <th>source</th>\n",
       "      <th>content</th>\n",
       "      <th>feature</th>\n",
       "      <th>title</th>\n",
       "      <th>url</th>\n",
       "    </tr>\n",
       "  </thead>\n",
       "  <tbody>\n",
       "    <tr>\n",
       "      <th>2310</th>\n",
       "      <td>87307</td>\n",
       "      <td>廖越 PF062</td>\n",
       "      <td>凤凰财经</td>\n",
       "      <td>?\\r\\n</td>\n",
       "      <td>{\"type\":\"财经\",\"site\":\"凤凰\",\"commentNum\":\"0\",\"joi...</td>\n",
       "      <td>一张图看懂一带一路的钱都从哪来？</td>\n",
       "      <td>http://finance.ifeng.com/a/20170515/15374639_0...</td>\n",
       "    </tr>\n",
       "    <tr>\n",
       "      <th>5039</th>\n",
       "      <td>84578</td>\n",
       "      <td>张雪2 PF032</td>\n",
       "      <td>每日涨停板复盘</td>\n",
       "      <td>?\\r\\n</td>\n",
       "      <td>{\"type\":\"财经\",\"site\":\"凤凰\",\"commentNum\":\"1\",\"joi...</td>\n",
       "      <td>复盘：创小板继续反弹 特斯拉站风口</td>\n",
       "      <td>http://finance.ifeng.com/a/20170620/15470267_0...</td>\n",
       "    </tr>\n",
       "  </tbody>\n",
       "</table>\n",
       "</div>"
      ],
      "text/plain": [
       "         id     author   source content  \\\n",
       "2310  87307   廖越 PF062     凤凰财经   ?\\r\\n   \n",
       "5039  84578  张雪2 PF032  每日涨停板复盘   ?\\r\\n   \n",
       "\n",
       "                                                feature              title  \\\n",
       "2310  {\"type\":\"财经\",\"site\":\"凤凰\",\"commentNum\":\"0\",\"joi...   一张图看懂一带一路的钱都从哪来？   \n",
       "5039  {\"type\":\"财经\",\"site\":\"凤凰\",\"commentNum\":\"1\",\"joi...  复盘：创小板继续反弹 特斯拉站风口   \n",
       "\n",
       "                                                    url  \n",
       "2310  http://finance.ifeng.com/a/20170515/15374639_0...  \n",
       "5039  http://finance.ifeng.com/a/20170620/15470267_0...  "
      ]
     },
     "execution_count": 4,
     "metadata": {},
     "output_type": "execute_result"
    }
   ],
   "source": [
    "content[content['content']=='?\\r\\n'].head()"
   ]
  },
  {
   "cell_type": "code",
   "execution_count": 5,
   "metadata": {},
   "outputs": [
    {
     "data": {
      "text/html": [
       "<div>\n",
       "<style scoped>\n",
       "    .dataframe tbody tr th:only-of-type {\n",
       "        vertical-align: middle;\n",
       "    }\n",
       "\n",
       "    .dataframe tbody tr th {\n",
       "        vertical-align: top;\n",
       "    }\n",
       "\n",
       "    .dataframe thead th {\n",
       "        text-align: right;\n",
       "    }\n",
       "</style>\n",
       "<table border=\"1\" class=\"dataframe\">\n",
       "  <thead>\n",
       "    <tr style=\"text-align: right;\">\n",
       "      <th></th>\n",
       "      <th>id</th>\n",
       "      <th>author</th>\n",
       "      <th>source</th>\n",
       "      <th>content</th>\n",
       "      <th>feature</th>\n",
       "      <th>title</th>\n",
       "      <th>url</th>\n",
       "    </tr>\n",
       "  </thead>\n",
       "  <tbody>\n",
       "  </tbody>\n",
       "</table>\n",
       "</div>"
      ],
      "text/plain": [
       "Empty DataFrame\n",
       "Columns: [id, author, source, content, feature, title, url]\n",
       "Index: []"
      ]
     },
     "execution_count": 5,
     "metadata": {},
     "output_type": "execute_result"
    }
   ],
   "source": [
    "content.drop([2310,5039],inplace=True)\n",
    "content[content['content']=='?\\r\\n'].head()"
   ]
  },
  {
   "cell_type": "code",
   "execution_count": 6,
   "metadata": {},
   "outputs": [],
   "source": [
    "content2=content.dropna(subset=['content'])"
   ]
  },
  {
   "cell_type": "code",
   "execution_count": 7,
   "metadata": {},
   "outputs": [
    {
     "name": "stdout",
     "output_type": "stream",
     "text": [
      "<class 'pandas.core.frame.DataFrame'>\n",
      "Int64Index: 87052 entries, 0 to 89610\n",
      "Data columns (total 7 columns):\n",
      "id         87052 non-null int64\n",
      "author     76923 non-null object\n",
      "source     87050 non-null object\n",
      "content    87052 non-null object\n",
      "feature    87052 non-null object\n",
      "title      87052 non-null object\n",
      "url        87052 non-null object\n",
      "dtypes: int64(1), object(6)\n",
      "memory usage: 5.3+ MB\n"
     ]
    }
   ],
   "source": [
    "content2.info()"
   ]
  },
  {
   "cell_type": "markdown",
   "metadata": {},
   "source": [
    "# 数据预处理"
   ]
  },
  {
   "cell_type": "code",
   "execution_count": 8,
   "metadata": {},
   "outputs": [
    {
     "name": "stderr",
     "output_type": "stream",
     "text": [
      "Building prefix dict from the default dictionary ...\n",
      "Loading model from cache /var/folders/kl/7_vv7v_15wnf5q65wh8tl5jh0000gn/T/jieba.cache\n",
      "Loading model cost 1.044 seconds.\n",
      "Prefix dict has been built succesfully.\n"
     ]
    },
    {
     "data": {
      "text/plain": [
       "Counter({0: 8219, 1: 51781})"
      ]
     },
     "execution_count": 8,
     "metadata": {},
     "output_type": "execute_result"
    }
   ],
   "source": [
    "corpus=[' '.join(list(jieba.cut(str(content2.iloc[i].content)))) for i in range(60000)]\n",
    "source=[content2.iloc[i].source for i in range(60000)]\n",
    "target=[1 if i=='新华社' or i=='新华网' else 0 for i in source]\n",
    "y=np.array(target)\n",
    "Counter(y)"
   ]
  },
  {
   "cell_type": "markdown",
   "metadata": {},
   "source": [
    "#### sklearn.feature_extraction.text  之 CountVectorizer用法 示例"
   ]
  },
  {
   "cell_type": "code",
   "execution_count": 9,
   "metadata": {},
   "outputs": [],
   "source": [
    "#from sklearn.feature_extraction.text import CountVectorizer\n",
    "#corpus1 = [\n",
    "#...     'This is the first document.',\n",
    "#...     'This document is the second document.',\n",
    "#...     'Is this the first document?',]\n",
    "#vectorizer = CountVectorizer()\n",
    "#X1 = vectorizer.fit_transform(corpus1)\n",
    "#print(vectorizer.get_feature_names())\n",
    "#print(X1.toarray())  "
   ]
  },
  {
   "cell_type": "markdown",
   "metadata": {},
   "source": [
    "#### 生成特征向量数据集（计算每个词的TF-IDF）"
   ]
  },
  {
   "cell_type": "code",
   "execution_count": 10,
   "metadata": {},
   "outputs": [
    {
     "data": {
      "text/plain": [
       "(60000, 215410)"
      ]
     },
     "execution_count": 10,
     "metadata": {},
     "output_type": "execute_result"
    }
   ],
   "source": [
    "from sklearn.feature_extraction.text import CountVectorizer\n",
    "vectorizer=CountVectorizer()\n",
    "X=vectorizer.fit_transform(corpus)\n",
    "np.shape(X)"
   ]
  },
  {
   "cell_type": "code",
   "execution_count": 11,
   "metadata": {},
   "outputs": [
    {
     "data": {
      "text/plain": [
       "<bound method _cs_matrix.toarray of <60000x215410 sparse matrix of type '<class 'numpy.float64'>'\n",
       "\twith 5648612 stored elements in Compressed Sparse Row format>>"
      ]
     },
     "execution_count": 11,
     "metadata": {},
     "output_type": "execute_result"
    }
   ],
   "source": [
    "from sklearn.feature_extraction.text import TfidfTransformer\n",
    "transformer=TfidfTransformer()\n",
    "tfidf=transformer.fit_transform(X)\n",
    "tfidf.toarray"
   ]
  },
  {
   "cell_type": "markdown",
   "metadata": {},
   "source": [
    "# KNN分类器"
   ]
  },
  {
   "cell_type": "code",
   "execution_count": 12,
   "metadata": {},
   "outputs": [],
   "source": [
    "from sklearn.neighbors import KNeighborsClassifier\n",
    "knn= KNeighborsClassifier(n_neighbors=3,weights='uniform')\n",
    "knn.fit(tfidf,y)\n",
    "y_pred=knn.predict(tfidf)"
   ]
  },
  {
   "cell_type": "code",
   "execution_count": 14,
   "metadata": {},
   "outputs": [
    {
     "data": {
      "text/plain": [
       "(0.9221275600745913, 0.764966363467507, 0.8082301536216807, None)"
      ]
     },
     "execution_count": 14,
     "metadata": {},
     "output_type": "execute_result"
    }
   ],
   "source": [
    "from sklearn.metrics import precision_recall_fscore_support\n",
    "precision_recall_fscore_support(y_pred, y, average='macro')  "
   ]
  },
  {
   "cell_type": "markdown",
   "metadata": {},
   "source": [
    "### 手动调参"
   ]
  },
  {
   "cell_type": "markdown",
   "metadata": {},
   "source": [
    "（1）(n_neighbors=3,weights='uniform')，precision_recall_f1: (0.9221275600745913, 0.764966363467507, 0.8082301536216807)"
   ]
  },
  {
   "cell_type": "markdown",
   "metadata": {},
   "source": [
    "（2）(n_neighbors=4,weights='uniform')，precision_recall_f1: (0.8895241379310345, 0.8891666666666667, 0.8585793380035288)"
   ]
  },
  {
   "cell_type": "markdown",
   "metadata": {},
   "source": [
    "（3）(n_neighbors=5,weights='uniform')，precision_recall_f1: (0.8877569546357776, 0.8815833333333334, 0.8421000803638186)"
   ]
  },
  {
   "cell_type": "markdown",
   "metadata": {},
   "source": [
    "（4）(n_neighbors=3,weights='distance'),precision_recall_f1: (0.9008032565275556, 0.8958333333333334, 0.8687527015061292)"
   ]
  },
  {
   "cell_type": "markdown",
   "metadata": {},
   "source": [
    "（5）(n_neighbors=4,weights='distance'),precision_recall_f1: (0.9007190859477344, 0.89575, 0.8686106220331913)"
   ]
  },
  {
   "cell_type": "markdown",
   "metadata": {},
   "source": [
    "（6）(n_neighbors=5,weights='distance'),precision_recall_f1 :(0.8989237818730857, 0.89175, 0.8609381836951601)"
   ]
  },
  {
   "cell_type": "markdown",
   "metadata": {},
   "source": [
    "所以，最优暂定(n_neighbors=3,weights='distance')。"
   ]
  },
  {
   "cell_type": "markdown",
   "metadata": {},
   "source": [
    "### 自动调参过程---自己的电脑，太慢了，只列代码。"
   ]
  },
  {
   "cell_type": "code",
   "execution_count": null,
   "metadata": {},
   "outputs": [],
   "source": [
    "#from sklearn.neighbors import KNeighborsClassifier\n",
    "#knn_clf = KNeighborsClassifier()\n",
    "\n",
    "#from sklearn.model_selection import GridSearchCV\n",
    "#param_grid = [{'weights': [\"uniform\", \"distance\"], 'n_neighbors': [3, 4, 5]}]\n",
    "#grid_search = GridSearchCV(knn_clf, param_grid, cv=5, verbose=3, n_jobs=-1)\n",
    "#grid_search.fit(Xtrain, ytrain)\n"
   ]
  },
  {
   "cell_type": "code",
   "execution_count": 304,
   "metadata": {},
   "outputs": [
    {
     "data": {
      "text/plain": [
       "array([[ 8057,   162],\n",
       "       [ 7044, 44737]])"
      ]
     },
     "execution_count": 304,
     "metadata": {},
     "output_type": "execute_result"
    }
   ],
   "source": [
    "from sklearn.metrics import confusion_matrix\n",
    "confusion_matrix(y,y_pred)"
   ]
  },
  {
   "cell_type": "markdown",
   "metadata": {},
   "source": [
    "### 使用NearestNeighbors找到每篇文章的最相近文章的索引、二者距离,并构建DataFrame。"
   ]
  },
  {
   "cell_type": "code",
   "execution_count": 15,
   "metadata": {},
   "outputs": [
    {
     "name": "stderr",
     "output_type": "stream",
     "text": [
      "/Library/Frameworks/Python.framework/Versions/3.6/lib/python3.6/site-packages/sklearn/neighbors/base.py:216: UserWarning: cannot use tree with sparse input: using brute force\n",
      "  warnings.warn(\"cannot use tree with sparse input: \"\n"
     ]
    }
   ],
   "source": [
    "from sklearn.neighbors import NearestNeighbors\n",
    "neigh = NearestNeighbors(n_neighbors=2, algorithm='ball_tree').fit(tfidf)\n",
    "distances, indices = neigh.kneighbors(tfidf)"
   ]
  },
  {
   "cell_type": "code",
   "execution_count": 16,
   "metadata": {},
   "outputs": [],
   "source": [
    "import pandas as pd\n",
    "content_df=pd.DataFrame(distances[:,1],columns=['distance'])\n",
    "content_df['origin_index']=indices[:,0]\n",
    "content_df['similar_artical_index']=indices[:,1]"
   ]
  },
  {
   "cell_type": "code",
   "execution_count": 17,
   "metadata": {},
   "outputs": [
    {
     "data": {
      "text/html": [
       "<div>\n",
       "<style scoped>\n",
       "    .dataframe tbody tr th:only-of-type {\n",
       "        vertical-align: middle;\n",
       "    }\n",
       "\n",
       "    .dataframe tbody tr th {\n",
       "        vertical-align: top;\n",
       "    }\n",
       "\n",
       "    .dataframe thead th {\n",
       "        text-align: right;\n",
       "    }\n",
       "</style>\n",
       "<table border=\"1\" class=\"dataframe\">\n",
       "  <thead>\n",
       "    <tr style=\"text-align: right;\">\n",
       "      <th></th>\n",
       "      <th>distance</th>\n",
       "      <th>origin_index</th>\n",
       "      <th>similar_artical_index</th>\n",
       "    </tr>\n",
       "  </thead>\n",
       "  <tbody>\n",
       "    <tr>\n",
       "      <th>0</th>\n",
       "      <td>1.000000</td>\n",
       "      <td>0</td>\n",
       "      <td>5336</td>\n",
       "    </tr>\n",
       "    <tr>\n",
       "      <th>1</th>\n",
       "      <td>1.000000</td>\n",
       "      <td>1</td>\n",
       "      <td>5336</td>\n",
       "    </tr>\n",
       "    <tr>\n",
       "      <th>2</th>\n",
       "      <td>1.000000</td>\n",
       "      <td>2</td>\n",
       "      <td>5336</td>\n",
       "    </tr>\n",
       "    <tr>\n",
       "      <th>3</th>\n",
       "      <td>0.000000</td>\n",
       "      <td>3</td>\n",
       "      <td>39</td>\n",
       "    </tr>\n",
       "    <tr>\n",
       "      <th>4</th>\n",
       "      <td>0.235425</td>\n",
       "      <td>4</td>\n",
       "      <td>5489</td>\n",
       "    </tr>\n",
       "  </tbody>\n",
       "</table>\n",
       "</div>"
      ],
      "text/plain": [
       "   distance  origin_index  similar_artical_index\n",
       "0  1.000000             0                   5336\n",
       "1  1.000000             1                   5336\n",
       "2  1.000000             2                   5336\n",
       "3  0.000000             3                     39\n",
       "4  0.235425             4                   5489"
      ]
     },
     "execution_count": 17,
     "metadata": {},
     "output_type": "execute_result"
    }
   ],
   "source": [
    "content_df.head()"
   ]
  },
  {
   "cell_type": "code",
   "execution_count": 18,
   "metadata": {},
   "outputs": [
    {
     "name": "stdout",
     "output_type": "stream",
     "text": [
      "<class 'pandas.core.frame.DataFrame'>\n",
      "RangeIndex: 60000 entries, 0 to 59999\n",
      "Data columns (total 3 columns):\n",
      "distance                 60000 non-null float64\n",
      "origin_index             60000 non-null int64\n",
      "similar_artical_index    60000 non-null int64\n",
      "dtypes: float64(1), int64(2)\n",
      "memory usage: 1.4 MB\n"
     ]
    }
   ],
   "source": [
    "content_df.info()"
   ]
  },
  {
   "cell_type": "markdown",
   "metadata": {},
   "source": [
    "### 选出疑似抄袭文章"
   ]
  },
  {
   "cell_type": "code",
   "execution_count": 22,
   "metadata": {},
   "outputs": [
    {
     "name": "stdout",
     "output_type": "stream",
     "text": [
      "疑似抄袭文章篇数 162\n"
     ]
    }
   ],
   "source": [
    "def get_cx_index(y,y_pred):\n",
    "    cx_index=[]\n",
    "    a=np.arange(len(y))\n",
    "    b=a[y==0]\n",
    "    c=a[y_pred==1]\n",
    "   \n",
    "    for i in b:\n",
    "        if i in c:\n",
    "            cx_index.append(i)\n",
    "    return cx_index\n",
    "\n",
    "cx_index=get_cx_index(y,y_pred)\n",
    "content_cx=content_df.iloc[cx_index]\n",
    "print('疑似抄袭文章篇数',len(cx_index))"
   ]
  },
  {
   "cell_type": "code",
   "execution_count": 25,
   "metadata": {},
   "outputs": [
    {
     "name": "stdout",
     "output_type": "stream",
     "text": [
      "下表为抄袭文章索引和疑被抄袭文章索引，以及相似度信息，distance越小，越相似\n"
     ]
    },
    {
     "data": {
      "text/html": [
       "<div>\n",
       "<style scoped>\n",
       "    .dataframe tbody tr th:only-of-type {\n",
       "        vertical-align: middle;\n",
       "    }\n",
       "\n",
       "    .dataframe tbody tr th {\n",
       "        vertical-align: top;\n",
       "    }\n",
       "\n",
       "    .dataframe thead th {\n",
       "        text-align: right;\n",
       "    }\n",
       "</style>\n",
       "<table border=\"1\" class=\"dataframe\">\n",
       "  <thead>\n",
       "    <tr style=\"text-align: right;\">\n",
       "      <th></th>\n",
       "      <th>distance</th>\n",
       "      <th>origin_index</th>\n",
       "      <th>similar_artical_index</th>\n",
       "    </tr>\n",
       "  </thead>\n",
       "  <tbody>\n",
       "    <tr>\n",
       "      <th>55</th>\n",
       "      <td>0.919737</td>\n",
       "      <td>55</td>\n",
       "      <td>54552</td>\n",
       "    </tr>\n",
       "    <tr>\n",
       "      <th>63</th>\n",
       "      <td>0.873234</td>\n",
       "      <td>63</td>\n",
       "      <td>49048</td>\n",
       "    </tr>\n",
       "    <tr>\n",
       "      <th>97</th>\n",
       "      <td>0.920622</td>\n",
       "      <td>97</td>\n",
       "      <td>15291</td>\n",
       "    </tr>\n",
       "    <tr>\n",
       "      <th>113</th>\n",
       "      <td>0.986465</td>\n",
       "      <td>113</td>\n",
       "      <td>52861</td>\n",
       "    </tr>\n",
       "    <tr>\n",
       "      <th>151</th>\n",
       "      <td>0.744315</td>\n",
       "      <td>151</td>\n",
       "      <td>36960</td>\n",
       "    </tr>\n",
       "  </tbody>\n",
       "</table>\n",
       "</div>"
      ],
      "text/plain": [
       "     distance  origin_index  similar_artical_index\n",
       "55   0.919737            55                  54552\n",
       "63   0.873234            63                  49048\n",
       "97   0.920622            97                  15291\n",
       "113  0.986465           113                  52861\n",
       "151  0.744315           151                  36960"
      ]
     },
     "execution_count": 25,
     "metadata": {},
     "output_type": "execute_result"
    }
   ],
   "source": [
    "print('下表为抄袭文章索引和疑被抄袭文章索引，以及相似度信息，distance越小，越相似')\n",
    "content_cx.head()"
   ]
  },
  {
   "cell_type": "markdown",
   "metadata": {},
   "source": [
    "##### 先选取distance小于0.5的进行抽样查看，发现大多是原文引用。增加了“据新华社电……”等字样"
   ]
  },
  {
   "cell_type": "code",
   "execution_count": 26,
   "metadata": {},
   "outputs": [
    {
     "data": {
      "text/html": [
       "<div>\n",
       "<style scoped>\n",
       "    .dataframe tbody tr th:only-of-type {\n",
       "        vertical-align: middle;\n",
       "    }\n",
       "\n",
       "    .dataframe tbody tr th {\n",
       "        vertical-align: top;\n",
       "    }\n",
       "\n",
       "    .dataframe thead th {\n",
       "        text-align: right;\n",
       "    }\n",
       "</style>\n",
       "<table border=\"1\" class=\"dataframe\">\n",
       "  <thead>\n",
       "    <tr style=\"text-align: right;\">\n",
       "      <th></th>\n",
       "      <th>distance</th>\n",
       "      <th>origin_index</th>\n",
       "      <th>similar_artical_index</th>\n",
       "    </tr>\n",
       "  </thead>\n",
       "  <tbody>\n",
       "    <tr>\n",
       "      <th>1071</th>\n",
       "      <td>0.123810</td>\n",
       "      <td>1071</td>\n",
       "      <td>1063</td>\n",
       "    </tr>\n",
       "    <tr>\n",
       "      <th>1101</th>\n",
       "      <td>0.000000</td>\n",
       "      <td>1101</td>\n",
       "      <td>1190</td>\n",
       "    </tr>\n",
       "    <tr>\n",
       "      <th>1607</th>\n",
       "      <td>0.210366</td>\n",
       "      <td>1607</td>\n",
       "      <td>3950</td>\n",
       "    </tr>\n",
       "    <tr>\n",
       "      <th>3067</th>\n",
       "      <td>0.000000</td>\n",
       "      <td>3047</td>\n",
       "      <td>3067</td>\n",
       "    </tr>\n",
       "    <tr>\n",
       "      <th>3819</th>\n",
       "      <td>0.451402</td>\n",
       "      <td>3819</td>\n",
       "      <td>37913</td>\n",
       "    </tr>\n",
       "    <tr>\n",
       "      <th>4603</th>\n",
       "      <td>0.000000</td>\n",
       "      <td>3197</td>\n",
       "      <td>4603</td>\n",
       "    </tr>\n",
       "    <tr>\n",
       "      <th>5076</th>\n",
       "      <td>0.406452</td>\n",
       "      <td>5076</td>\n",
       "      <td>5133</td>\n",
       "    </tr>\n",
       "    <tr>\n",
       "      <th>6124</th>\n",
       "      <td>0.217447</td>\n",
       "      <td>6124</td>\n",
       "      <td>5304</td>\n",
       "    </tr>\n",
       "    <tr>\n",
       "      <th>6444</th>\n",
       "      <td>0.327121</td>\n",
       "      <td>6444</td>\n",
       "      <td>555</td>\n",
       "    </tr>\n",
       "    <tr>\n",
       "      <th>8243</th>\n",
       "      <td>0.489581</td>\n",
       "      <td>8243</td>\n",
       "      <td>8075</td>\n",
       "    </tr>\n",
       "  </tbody>\n",
       "</table>\n",
       "</div>"
      ],
      "text/plain": [
       "      distance  origin_index  similar_artical_index\n",
       "1071  0.123810          1071                   1063\n",
       "1101  0.000000          1101                   1190\n",
       "1607  0.210366          1607                   3950\n",
       "3067  0.000000          3047                   3067\n",
       "3819  0.451402          3819                  37913\n",
       "4603  0.000000          3197                   4603\n",
       "5076  0.406452          5076                   5133\n",
       "6124  0.217447          6124                   5304\n",
       "6444  0.327121          6444                    555\n",
       "8243  0.489581          8243                   8075"
      ]
     },
     "execution_count": 26,
     "metadata": {},
     "output_type": "execute_result"
    }
   ],
   "source": [
    "content_cx[(content_cx['distance'])<0.5]"
   ]
  },
  {
   "cell_type": "code",
   "execution_count": 27,
   "metadata": {},
   "outputs": [
    {
     "name": "stdout",
     "output_type": "stream",
     "text": [
      "疑似抄袭文章：\n"
     ]
    },
    {
     "data": {
      "text/plain": [
       "'（原标题：美军找到数具撞船事故失踪者遗体）\\r\\n据新华社电?美国海军18日发表声明称，在美军“菲茨杰拉德”号驱逐舰与菲律宾籍货船相撞事故中失踪的美军人员已经死亡，死者遗体在美军驱逐舰进水的住舱内找到。\\r\\n17日凌晨2时许，美国海军第七舰队“菲茨杰拉德”号驱逐舰在返回驻地神奈川县横须贺港途中，在横须贺市西南56海里水域与一艘挂有菲律宾国旗的货船相撞。“菲茨杰拉德”号舰体右侧吃水线上下受损，7名美军人员下落不明。\\r\\n事故发生后，美国海军拖船前往事发水域，把“菲茨杰拉德”号驱逐舰拉回基地。美国海军第七舰队18日发表声明称，失踪人员遗体已经找到。“搜救人员进入撞击中受损区域，在进水的住舱内找到失踪人员。”\\r\\n美联社报道，撞击致两处住舱、一处机房和无线电室进水，船体右侧变形，吃水线以下受损情况尚有待明确。事故发生时，“菲茨杰拉德”号上有美军超过200人，大多数人已睡着。\\r\\n美联社援引美军驻横须贺海军发言人的话报道，7名失踪人员并未全部找到。该发言人没有说明已经找到的确切人数。\\r\\n海军第七舰队声明写道：“家属已经得到通知。在这一困难时刻，海军将向他们提供一切必要支持。”\\r\\n死者姓名将在晚些时候公布。船只相撞原因仍在调查。\\r\\n第七舰队司令约瑟夫·奥库安在18日晚些时候举行的新闻发布会上说，“菲茨杰拉德”号被撞后，受损严重，吃水线下被撞出一条大口子。“菲茨杰拉德”眼看着就要沉没，幸而船员反应迅速，竭力抢救。\\r\\n奥库安说，海上搜救行动已经叫停。“菲茨杰拉德”号修理完毕后将继续服役，修理工作耗时预计“不会超过一年”。\\r\\n美国海军“菲茨杰拉德”号驱逐舰全长154米，满载排水量为8000吨。与其相撞的菲律宾籍货船全长222.6米，满载排水量为2.9万吨。日本海上保安厅17日接到货船紧急求救电话，称2时20分左右发生撞击。\\r\\n撞击事故造成多名美军人员受伤，包括“菲茨杰拉德”号指挥官布赖斯·本森。菲律宾籍货船上有20名船员，无人受伤。货船船体可以看到凹痕和划痕，但没有大伤。\\r\\n'"
      ]
     },
     "execution_count": 27,
     "metadata": {},
     "output_type": "execute_result"
    }
   ],
   "source": [
    "print('疑似抄袭文章：')\n",
    "content2.iloc[1607]['content']"
   ]
  },
  {
   "cell_type": "code",
   "execution_count": 28,
   "metadata": {},
   "outputs": [
    {
     "name": "stdout",
     "output_type": "stream",
     "text": [
      "新华社文章：\n"
     ]
    },
    {
     "data": {
      "text/plain": [
       "'美国海军１８日发表声明称，在美军“菲茨杰拉德”号驱逐舰与菲律宾籍货船相撞事故中失踪的美军人员已经死亡，死者遗体在美军驱逐舰进水的住舱内找到。\\r\\n１７日凌晨２时许，美国海军第七舰队“菲茨杰拉德”号驱逐舰在返回驻地神奈川县横须贺港途中，在横须贺市西南５６海里水域与一艘挂有菲律宾国旗的货船相撞。“菲茨杰拉德”号舰体右侧吃水线上下受损，７名美军人员下落不明。\\r\\n事故发生后，美国海军拖船前往事发水域，把“菲茨杰拉德”号驱逐舰拉回基地。美国海军第七舰队１８日发表声明称，失踪人员遗体已经找到。“搜救人员进入撞击中受损区域，在进水的住舱内找到失踪人员。”\\r\\n美联社报道，撞击致两处住舱、一处机房和无线电室进水，船体右侧变形，吃水线以下受损情况尚有待明确。事故发生时，“菲茨杰拉德”号上有美军超过２００人，大多数人已睡着。\\r\\n失踪人员遗体已运往海军医院，以确认身份。声明没有说明找到多少名死者，也没有说明是否还有人员下落未明。\\r\\n美联社援引美军驻横须贺海军发言人的话报道，７名失踪人员并未全部找到。该发言人没有说明已经找到的确切人数。\\r\\n海军第七舰队声明写道：“家属已经得到通知。在这一困难时刻，海军将向他们提供一切必要支持。”\\r\\n死者姓名将在晚些时候公布。船只相撞原因仍在调查。\\r\\n第七舰队司令约瑟夫·奥库安在１８日晚些时候举行的新闻发布会上说，“菲茨杰拉德”号被撞后，受损严重，吃水线下被撞出一条大口子。“菲茨杰拉德”眼看着就要沉没，幸而船员反应迅速，竭力抢救。\\r\\n奥库安说，海上搜救行动已经叫停。“菲茨杰拉德”号修理完毕后将继续服役，修理工作耗时预计“不会超过一年”。\\r\\n美国海军“菲茨杰拉德”号驱逐舰全长１５４米，满载排水量为８０００吨。与其相撞的菲律宾籍货船全长２２２．６米，满载排水量为２．９万吨。日本海上保安厅１７日接到货船紧急求救电话，称２时２０分左右发生撞击。\\r\\n撞击事故造成多名美军人员受伤，包括“菲茨杰拉德”号指挥官布赖斯·本森。菲律宾籍货船上有２０名船员，无人受伤。货船船体可以看到凹痕和划痕，但没有大伤。\\r\\n'"
      ]
     },
     "execution_count": 28,
     "metadata": {},
     "output_type": "execute_result"
    }
   ],
   "source": [
    "print('新华社文章：')\n",
    "content2.iloc[3950]['content']"
   ]
  },
  {
   "cell_type": "markdown",
   "metadata": {},
   "source": [
    "##### 选取0.5<distance<0.7的，发现文章主题相同，有大量重复信息和相同句子。接下来，基于此类文章进行抄袭句子定位。"
   ]
  },
  {
   "cell_type": "code",
   "execution_count": 29,
   "metadata": {},
   "outputs": [
    {
     "data": {
      "text/html": [
       "<div>\n",
       "<style scoped>\n",
       "    .dataframe tbody tr th:only-of-type {\n",
       "        vertical-align: middle;\n",
       "    }\n",
       "\n",
       "    .dataframe tbody tr th {\n",
       "        vertical-align: top;\n",
       "    }\n",
       "\n",
       "    .dataframe thead th {\n",
       "        text-align: right;\n",
       "    }\n",
       "</style>\n",
       "<table border=\"1\" class=\"dataframe\">\n",
       "  <thead>\n",
       "    <tr style=\"text-align: right;\">\n",
       "      <th></th>\n",
       "      <th>distance</th>\n",
       "      <th>origin_index</th>\n",
       "      <th>similar_artical_index</th>\n",
       "    </tr>\n",
       "  </thead>\n",
       "  <tbody>\n",
       "    <tr>\n",
       "      <th>165</th>\n",
       "      <td>0.593684</td>\n",
       "      <td>165</td>\n",
       "      <td>15009</td>\n",
       "    </tr>\n",
       "    <tr>\n",
       "      <th>687</th>\n",
       "      <td>0.599947</td>\n",
       "      <td>687</td>\n",
       "      <td>54608</td>\n",
       "    </tr>\n",
       "    <tr>\n",
       "      <th>1424</th>\n",
       "      <td>0.547903</td>\n",
       "      <td>1424</td>\n",
       "      <td>21303</td>\n",
       "    </tr>\n",
       "    <tr>\n",
       "      <th>1627</th>\n",
       "      <td>0.647424</td>\n",
       "      <td>1627</td>\n",
       "      <td>20489</td>\n",
       "    </tr>\n",
       "    <tr>\n",
       "      <th>2424</th>\n",
       "      <td>0.534906</td>\n",
       "      <td>2424</td>\n",
       "      <td>19211</td>\n",
       "    </tr>\n",
       "    <tr>\n",
       "      <th>2891</th>\n",
       "      <td>0.673483</td>\n",
       "      <td>2891</td>\n",
       "      <td>22428</td>\n",
       "    </tr>\n",
       "    <tr>\n",
       "      <th>3088</th>\n",
       "      <td>0.673964</td>\n",
       "      <td>3088</td>\n",
       "      <td>5133</td>\n",
       "    </tr>\n",
       "    <tr>\n",
       "      <th>3206</th>\n",
       "      <td>0.612401</td>\n",
       "      <td>3206</td>\n",
       "      <td>50010</td>\n",
       "    </tr>\n",
       "    <tr>\n",
       "      <th>3482</th>\n",
       "      <td>0.504431</td>\n",
       "      <td>3482</td>\n",
       "      <td>37913</td>\n",
       "    </tr>\n",
       "    <tr>\n",
       "      <th>3710</th>\n",
       "      <td>0.563636</td>\n",
       "      <td>3710</td>\n",
       "      <td>4496</td>\n",
       "    </tr>\n",
       "    <tr>\n",
       "      <th>3955</th>\n",
       "      <td>0.646805</td>\n",
       "      <td>3955</td>\n",
       "      <td>48694</td>\n",
       "    </tr>\n",
       "    <tr>\n",
       "      <th>4080</th>\n",
       "      <td>0.650066</td>\n",
       "      <td>4080</td>\n",
       "      <td>5133</td>\n",
       "    </tr>\n",
       "    <tr>\n",
       "      <th>4764</th>\n",
       "      <td>0.605513</td>\n",
       "      <td>4764</td>\n",
       "      <td>15016</td>\n",
       "    </tr>\n",
       "    <tr>\n",
       "      <th>8034</th>\n",
       "      <td>0.684280</td>\n",
       "      <td>8034</td>\n",
       "      <td>3852</td>\n",
       "    </tr>\n",
       "  </tbody>\n",
       "</table>\n",
       "</div>"
      ],
      "text/plain": [
       "      distance  origin_index  similar_artical_index\n",
       "165   0.593684           165                  15009\n",
       "687   0.599947           687                  54608\n",
       "1424  0.547903          1424                  21303\n",
       "1627  0.647424          1627                  20489\n",
       "2424  0.534906          2424                  19211\n",
       "2891  0.673483          2891                  22428\n",
       "3088  0.673964          3088                   5133\n",
       "3206  0.612401          3206                  50010\n",
       "3482  0.504431          3482                  37913\n",
       "3710  0.563636          3710                   4496\n",
       "3955  0.646805          3955                  48694\n",
       "4080  0.650066          4080                   5133\n",
       "4764  0.605513          4764                  15016\n",
       "8034  0.684280          8034                   3852"
      ]
     },
     "execution_count": 29,
     "metadata": {},
     "output_type": "execute_result"
    }
   ],
   "source": [
    "content_cx[(content_cx['distance']<0.7)  & (content_cx['distance']>0.5)]"
   ]
  },
  {
   "cell_type": "code",
   "execution_count": 30,
   "metadata": {},
   "outputs": [
    {
     "name": "stdout",
     "output_type": "stream",
     "text": [
      "疑似抄袭文章：\n"
     ]
    },
    {
     "data": {
      "text/plain": [
       "'\\u3000\\u3000“由于东航物流本身股本高达41亿，规定的单个员工持股上限1%，实际上金额有4100万之多。对目前125名持股的员工而言，都是要拿出真金白银来的，持了股，就相当于背上身家在打拼，必须奋勇直前。”东航物流总经理李九鹏在接受《经济参考报》记者采访时表示。\\r\\n\\u3000\\u3000作为公司的管理层，李九鹏同时也是公司员工持股的一名代表，并通过无限责任的质押贷款筹得资金3000多万持股。用他自己的话，公司如果干不好，不仅自己工作前途没有了，自己可能下半辈子都需要背负这笔巨额债务还债。换句话说，公司的前途跟员工个人已经牢牢绑在一起。\\r\\n\\u3000\\u3000作为混改确定的第一批试点单位，东航集团旗下的东航物流开始“试水”改革，除了放弃绝对控制权外，同时率先落地员工持股系列改革。记者从东航获悉，在引入四家投资方后，目前新的东航物流计划员工持股的比例高达10%，首批持股人员主要为公司的中高级管理人员及核心员工，目前已有125名员工持股，涉及出资金额近4亿元。首批员工持股总额为东航物流本次增资扩股后注册资本的8%，预留的2%则仍由员工持股平台管理。\\r\\n\\u3000\\u3000作为混改的重要组成部分，员工持股也被称为本轮改革中最难啃的“硬骨头”。一位地方国企人士坦言，员工持股改革就是要建立收益共享、风险共担的长效激励约束机制，保持核心人才队伍的稳定性，优化股权结构，完善公司治理机制。相较于其他形式的激励，员工持股方式能更有效地把国有资本和人力资本及创造性劳动结合起来，发挥国有资本作用的同时，激发人力资源的创造性劳动。同时，改变以往“大锅饭”、“论资排辈”的国企特点，对关键岗位和优秀人才启动员工持股计划，也有助于优化收入分配制度，可以有效监督企业的规范运作。\\r\\n\\u3000\\u3000不容忽视的是，虽然国企混改中的员工持股试点正在加速，但是目前的不确定因素仍比较多。记者了解到，比如在持股比例方面，相当多的国企偏于谨慎，员工持股的比例较低，这难以显著激发广大员工积极性，并与企业形成利益共同体。另外，在股票来源上，多数国企的员工持股计划完全靠定向增发，结构比较单一。不仅如此，在参与试点的员工范围上，不少国企明确为“骨干员工”，但哪些是“骨干员工”目前没有清晰界定。\\r\\n\\u3000\\u3000“员工持股改革问题上曾经走过弯路，这也给我们的改革提出了更高要求。尽管是摸着石头过河，但是在方案的设计上，我们综合了包括企业特点、人员结构等多种因素，在骨干员工划定、持股比例划分、股权管理约束方面都有了严格规定，在激发团队凝聚力和向心力的同时，也保证了股权的合理流动。”李九鹏说。\\r\\n\\u3000\\u3000在很多东航物流员工看来，实施员工持股不是“大锅饭”，更多的是约束和压力。谈到推行员工持股以后公司的变化，东航物流公司市场营销部一位负责人向记者表示，持股以后员工对企业的“主人翁意识”明显提高了。“以前跟公司高管是上下级关系，现在更像是志同道合的伙伴。大家都是合伙人，在不同的岗位上一起把工作做好。”李九鹏则告诉记者，管理团队、核心员工持股，在公司内部可以使“军心”稳定，而对外则能获得更多投资者和合作伙伴的信任。\\r\\n\\u3000\\u3000记者了解到，虽然国资委、财政部和证监会联合印发的《关于国有控股混合所有制企业开展员工持股试点的意见》规定员工持股总量原则上不高于公司总股本的30%，但是多数开展员工持股试点的国企员工持股仅为5%-8%，此次东航物流将员工持股比例定为10%，尚属首例。目前，包括北京、上海、陕西、湖南、湖北、四川、山东、重庆等近20个省市明确要推进地方国企员工持股试点，多个省份正在研究制定混合所有制企业开展员工持股试点的落实意见或方案，设定改革时间表，启动试点的同时，试点企业名单将进一步扩围 .\\r\\n\\u3000\\u3000“东航物流是混改试点中民航领域首家落地的，因此它的改革方案和设计不仅对航空领域有引导的作用，对其他垄断行业企业的混改也有参考意义。” 中国企业研究院首席研究员李锦接受《经济参考报》记者采访时表示，东航物流员工持股占到10%，改革力度较大，可以说为其他国企的员工持股改革工作树立了一个标杆，也为其他国企的混改实施提供了试水样本。\\r\\n\\u3000\\u3000李锦认为，福利持股、均匀持股达不到切实落实责任、推动企业市场化发展的目的，持股能起多大作用与管理层尤其是一把手承担多大的风险有关。职位越高，岗位越重要，对企业贡献越大的员工，持股份额就应相应越多；目前一些国企员工持股中有大锅饭的现象，部分原因是国企股本大导致员工持股比例太小，建议将大股东的部分股权变成优先股，让优先股获得固定收益，从而缩减普通股，加大员工持股占有总股本的比例。\\r\\n\\u3000\\u3000值得注意的是，虽然目前已有多家国企开展员工持股试点工作，但同时仍存在退出机制如何进一步完善、“核心员工”如何界定、持股员工的标准和比例如何确定等难题。对此，多位专家表示首先，应该建立完善的退出机制、相对透明的公示制度以及较强的监督约束，防止国资流失。与此同时，员工持股需要注意底线，不能搞全民持股，员工持股应设立负面清单，明确哪些能做哪些不能做，比如增量优先，科技企业优先，不同类型的企业，员工持股的比例也需划分。此外，持股也要程序化、公开化。\\r\\n\\u3000\\u3000(原标题：125名员工持股出资总金额近4亿 东航“试水”混改员工持股改革落地)\\r\\n'"
      ]
     },
     "execution_count": 30,
     "metadata": {},
     "output_type": "execute_result"
    }
   ],
   "source": [
    "print('疑似抄袭文章：')\n",
    "content2.iloc[165]['content']"
   ]
  },
  {
   "cell_type": "code",
   "execution_count": 31,
   "metadata": {},
   "outputs": [
    {
     "name": "stdout",
     "output_type": "stream",
     "text": [
      "新华社文章：\n"
     ]
    },
    {
     "data": {
      "text/plain": [
       "'\\u3000\\u3000新华社北京４月５日新媒体专电（记者杨烨）《经济参考报》记者日前从多个省份获悉，目前包括北京、上海、陕西、湖南、湖北、四川、山东、重庆等近２０个省市明确要推进地方国企员工持股试点，多个省份正在研究制定混合所有制企业开展员工持股试点的落实意见或方案，设定改革时间表。启动试点的同时，试点企业名单将进一步扩围。\\\\n\\u3000\\u3000作为混合所有制改革的重要组成部分，员工持股无疑是国企改革中最具挑战性和敏感性的难题之一。按照国务院国资委计划，下一步将在主业处于充分竞争行业和领域的商业类企业中，分别从中央企业选择１０家，地方国有企业选择５至１０家开展首批试点；２０１６年启动实施首批试点，成熟一户开展一户，２０１８年年底进行阶段性总结，视情况适时扩大试点。\\\\n\\u3000\\u3000“地方版落地方案实际上就是在总体方案的基础上，各个地方根据各地的产业结构、企业特点等来制定相应的细化方案，为的就是加快改革落地，不少省份都明确提出，要扩大试点企业，一些省份的试点企业名单也都在甄选上报。”一位地方国资人士告诉《经济参考报》记者。\\\\n\\u3000\\u3000以四川为例，记者从四川省国资委获悉，四川省已经制定并即将出台混合所有制企业员工持股指导意见，并设定改革“时间表”。下一步将在全省范围内选择５至１０户企业（其中，省属企业３至５户，市、州属以下企业３至５户）开展试点工作。按照试点意见，将优先支持人才资本和技术要素贡献占比较高的转制科研院所、高新技术企业、科技服务型企业开展员工持股试点。持股员工将优先设定在关键岗位工作，并对公司经营业绩和持续发展有直接或较大影响的科研人员、经营管理人员和业务骨干。\\\\n\\u3000\\u3000记者同时了解到，目前重庆市国资委也正在积极制定国有企业开展员工持股试点的实施办法，在划定７家试点企业的基础上指导企业积极推进改革。\\\\n\\u3000\\u3000北京市的员工持股试点工作将集中在新能源、生活性服务业、文化创意业等领域。目前，北京市已经初步圈定北汽新能源、庆丰包子铺、正达坤顺等６家试点企业，均为竞争类企业。\\\\n\\u3000\\u3000一位地方国企人士坦言，员工持股改革就是要建立收益共享、风险共担的长效激励约束机制，保持核心人才队伍的稳定性，优化股权结构，完善公司治理机制。相较于其他形式的激\\\\n励，员工持股方式能更有效地把国有资本和人力资本及创造性劳动结合起来，发挥国有资本作用的同时，激发人力资源的创造性劳动。同时，改变以往“大锅饭”、“论资排辈”的国企特点，对关键岗位和优秀人才启动员工持股计划，也有助于优化收入分配制度，可以有效监督企业的规范运作。\\\\n\\u3000\\u3000不容忽视的是，虽然国企混改中的员工持股试点正在加速，但是目前的不确定因素仍比较多。记者了解到，比如在持股比例方面，相当多的国企偏于谨慎，将员工持股的比例控制在１０％以内，这难以显著激发广大员工积极性，并与企业形成利益共同体。另外，在股票来源上，多数国企的员工持股计划完全靠定向增发，结构比较单一。不仅如此，在参与试点的员工范围上，不少国企明确为“骨干员工”，但哪些是“骨干员工”目前没有清晰界定。\\\\n\\u3000\\u3000对此，多位专家表示，随着混合所有制改革的不断深入，我国员工持股改革迈入关键时期。员工持股改革问题上曾经走过弯路，这也给下一步改革提出了更高要求。首先，应该建立完善的退出机制、相对透明的公示制度以及较强的监督约束，防止国资流失。与此同时，员工持股需要注意底线，不能搞全民持股，员工持股应设立负面清单，明确哪些能做哪些不能做，比如增量优先，科技企业优先，不同类型的企业，员工持股的比例也需划分。此外，持股也要程序化、公开化。在股票来源上，大股东可以把企业超额利润的一部分，拿出来转化成股票提供给员工，凸显激励作用。同时，员工持股计划应选择合适的窗口期，要形成“资本所有者和劳动者利益共同体”，而不是引导员工去“炒股”。（完）'"
      ]
     },
     "execution_count": 31,
     "metadata": {},
     "output_type": "execute_result"
    }
   ],
   "source": [
    "print('新华社文章：')\n",
    "content2.iloc[15009]['content']"
   ]
  },
  {
   "cell_type": "markdown",
   "metadata": {},
   "source": [
    "##### 基于以上两篇文章，使用编辑距离editdistance，定位抄袭句子。"
   ]
  },
  {
   "cell_type": "markdown",
   "metadata": {},
   "source": [
    "##### 编辑距离：又称Levenshtein距离，是指两个字串之间，由一个转成另一个所需的最少编辑操作次数，如果它们的距离越大，说明它们越是不同。许可的编辑操作包括将一个字符替换成另一个字符，插入一个字符，删除一个字符。"
   ]
  },
  {
   "cell_type": "code",
   "execution_count": 32,
   "metadata": {},
   "outputs": [
    {
     "name": "stdout",
     "output_type": "stream",
     "text": [
      "怀疑抄袭句:同时，改变以往“大锅饭”、“论资排辈”的国企特点，对关键岗位和优秀人才启动员工持股计划，也有助于优化收入分配制度，可以有效监督企业的规范运作\n",
      "相似原句:同时，改变以往“大锅饭”、“论资排辈”的国企特点，对关键岗位和优秀人才启动员工持股计划，也有助于优化收入分配制度，可以有效监督企业的规范运作\n",
      "editdistance:0\n",
      "\n",
      "怀疑抄袭句:另外，在股票来源上，多数国企的员工持股计划完全靠定向增发，结构比较单一\n",
      "相似原句:另外，在股票来源上，多数国企的员工持股计划完全靠定向增发，结构比较单一\n",
      "editdistance:0\n",
      "\n",
      "怀疑抄袭句:不仅如此，在参与试点的员工范围上，不少国企明确为“骨干员工”，但哪些是“骨干员工”目前没有清晰界定\n",
      "相似原句:不仅如此，在参与试点的员工范围上，不少国企明确为“骨干员工”，但哪些是“骨干员工”目前没有清晰界定\n",
      "editdistance:0\n",
      "\n",
      "怀疑抄袭句:与此同时，员工持股需要注意底线，不能搞全民持股，员工持股应设立负面清单，明确哪些能做哪些不能做，比如增量优先，科技企业优先，不同类型的企业，员工持股的比例也需划分\n",
      "相似原句:与此同时，员工持股需要注意底线，不能搞全民持股，员工持股应设立负面清单，明确哪些能做哪些不能做，比如增量优先，科技企业优先，不同类型的企业，员工持股的比例也需划分\n",
      "editdistance:0\n",
      "\n",
      "怀疑抄袭句:此外，持股也要程序化、公开化\n",
      "相似原句:此外，持股也要程序化、公开化\n",
      "editdistance:0\n",
      "\n",
      "怀疑抄袭句:相较于其他形式的激励，员工持股方式能更有效地把国有资本和人力资本及创造性劳动结合起来，发挥国有资本作用的同时，激发人力资源的创造性劳动\n",
      "相似原句:相较于其他形式的激\\n励，员工持股方式能更有效地把国有资本和人力资本及创造性劳动结合起来，发挥国有资本作用的同时，激发人力资源的创造性劳动\n",
      "editdistance:2\n",
      "\n",
      "怀疑抄袭句:\r\n",
      "　　不容忽视的是，虽然国企混改中的员工持股试点正在加速，但是目前的不确定因素仍比较多\n",
      "相似原句:\\n　　不容忽视的是，虽然国企混改中的员工持股试点正在加速，但是目前的不确定因素仍比较多\n",
      "editdistance:2\n",
      "\n",
      "怀疑抄袭句:一位地方国企人士坦言，员工持股改革就是要建立收益共享、风险共担的长效激励约束机制，保持核心人才队伍的稳定性，优化股权结构，完善公司治理机制\n",
      "相似原句:\\n　　一位地方国企人士坦言，员工持股改革就是要建立收益共享、风险共担的长效激励约束机制，保持核心人才队伍的稳定性，优化股权结构，完善公司治理机制\n",
      "editdistance:4\n",
      "\n",
      "怀疑抄袭句:”李九鹏说\n",
      "相似原句:（完）\n",
      "editdistance:5\n",
      "\n",
      "怀疑抄袭句:\r\n",
      "　　“员工持股改革问题上曾经走过弯路，这也给我们的改革提出了更高要求\n",
      "相似原句:员工持股改革问题上曾经走过弯路，这也给下一步改革提出了更高要求\n",
      "editdistance:8\n",
      "\n",
      "怀疑抄袭句:记者了解到，比如在持股比例方面，相当多的国企偏于谨慎，员工持股的比例较低，这难以显著激发广大员工积极性，并与企业形成利益共同体\n",
      "相似原句:记者了解到，比如在持股比例方面，相当多的国企偏于谨慎，将员工持股的比例控制在１０％以内，这难以显著激发广大员工积极性，并与企业形成利益共同体\n",
      "editdistance:9\n",
      "\n",
      "怀疑抄袭句:对此，多位专家表示首先，应该建立完善的退出机制、相对透明的公示制度以及较强的监督约束，防止国资流失\n",
      "相似原句:首先，应该建立完善的退出机制、相对透明的公示制度以及较强的监督约束，防止国资流失\n",
      "editdistance:9\n",
      "\n"
     ]
    }
   ],
   "source": [
    "import editdistance\n",
    "\n",
    "def find_similar_sentence(candidate,raw):\n",
    "    similist = []\n",
    "    cl = candidate.strip().split('。')\n",
    "    ra = raw.strip().split('。')\n",
    "    for c in cl:\n",
    "        for r in ra:\n",
    "            similist.append([c,r,editdistance.eval(c,r)])\n",
    "    sort=sorted(similist,key=lambda x:x[2])\n",
    "    for c,r,ed in sort:\n",
    "        if c!='' and r!='' and ed<10:\n",
    "            print('怀疑抄袭句:{0}\\n相似原句:{1}\\neditdistance:{2}\\n'.format(c,r,ed))\n",
    "\n",
    "            \n",
    "candidate=content2.iloc[165]['content']\n",
    "raw=content2.iloc[15009]['content']     \n",
    "\n",
    "find_similar_sentence(candidate,raw)\n"
   ]
  }
 ],
 "metadata": {
  "kernelspec": {
   "display_name": "Python 3",
   "language": "python",
   "name": "python3"
  },
  "language_info": {
   "codemirror_mode": {
    "name": "ipython",
    "version": 3
   },
   "file_extension": ".py",
   "mimetype": "text/x-python",
   "name": "python",
   "nbconvert_exporter": "python",
   "pygments_lexer": "ipython3",
   "version": "3.6.6"
  }
 },
 "nbformat": 4,
 "nbformat_minor": 2
}
